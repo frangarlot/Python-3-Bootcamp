{
 "cells": [
  {
   "cell_type": "markdown",
   "metadata": {},
   "source": [
    "___\n",
    "\n",
    "<a href='https://www.udemy.com/user/joseportilla/'><img src='../Pierian_Data_Logo.png'/></a>\n",
    "___\n",
    "<center><em>Content Copyright by Pierian Data</em></center>"
   ]
  },
  {
   "cell_type": "markdown",
   "metadata": {},
   "source": [
    "# Guessing Game Challenge\n",
    "\n",
    "Let's use `while` loops to create a guessing game.\n",
    "\n",
    "The Challenge:\n",
    "\n",
    "Write a program that picks a random integer from 1 to 100, and has players guess the number. The rules are:\n",
    "\n",
    "1. If a player's guess is less than 1 or greater than 100, say \"OUT OF BOUNDS\"\n",
    "2. On a player's first turn, if their guess is\n",
    " * within 10 of the number, return \"WARM!\"\n",
    " * further than 10 away from the number, return \"COLD!\"\n",
    "3. On all subsequent turns, if a guess is \n",
    " * closer to the number than the previous guess return \"WARMER!\"\n",
    " * farther from the number than the previous guess, return \"COLDER!\"\n",
    "4. When the player's guess equals the number, tell them they've guessed correctly *and* how many guesses it took!\n",
    "\n",
    "You can try this from scratch, or follow the steps outlined below. A separate Solution notebook has been provided. Good luck!\n"
   ]
  },
  {
   "cell_type": "markdown",
   "metadata": {},
   "source": [
    "#### First, pick a random integer from 1 to 100 using the random module and assign it to a variable\n",
    "\n",
    "Note: `random.randint(a,b)` returns a random integer in range `[a, b]`, including both end points."
   ]
  },
  {
   "cell_type": "code",
   "execution_count": 2,
   "metadata": {},
   "outputs": [
    {
     "data": {
      "text/plain": [
       "88"
      ]
     },
     "execution_count": 2,
     "metadata": {},
     "output_type": "execute_result"
    }
   ],
   "source": [
    "import random\n",
    "\n",
    "random.randint(1,100)"
   ]
  },
  {
   "cell_type": "markdown",
   "metadata": {},
   "source": [
    "#### Next, print an introduction to the game and explain the rules"
   ]
  },
  {
   "cell_type": "code",
   "execution_count": 6,
   "metadata": {},
   "outputs": [
    {
     "name": "stdout",
     "output_type": "stream",
     "text": [
      "\n",
      "Welcome to the Guessing Game! \n",
      "\n",
      "You have to guess the correct number between 1 to 100.\n",
      "If your guess is within 10 of the number, I will say \"WARM!\"\n",
      "If your guess is further than 10 away from the number, I will say \"COLD!\"\n",
      "If you are closer to the number than the previous guess, I will say \"WARMER!\"\n",
      "If you are farther from the number than the previous guess, I will say \"COLDER!\" \n",
      "\n"
     ]
    }
   ],
   "source": [
    "def intro():\n",
    "    print('\\nWelcome to the Guessing Game! \\n') \n",
    "    print('You have to guess the correct number between 1 to 100.')\n",
    "    print('If your guess is within 10 of the number, I will say \"WARM!\"')\n",
    "    print('If your guess is further than 10 away from the number, I will say \"COLD!\"')\n",
    "    print('If you are closer to the number than the previous guess, I will say \"WARMER!\"')\n",
    "    print('If you are farther from the number than the previous guess, I will say \"COLDER!\" \\n')\n",
    "intro()"
   ]
  },
  {
   "cell_type": "markdown",
   "metadata": {},
   "source": [
    "#### Write a `while` loop that compares the player's guess to our number. If the player guesses correctly, break from the loop. Otherwise, tell the player if they're warmer or colder, and continue asking for guesses.\n",
    "\n",
    "Some hints:\n",
    "* it may help to sketch out all possible combinations on paper first!\n",
    "* you can use the `abs()` function to find the positive difference between two numbers\n",
    "* if you append all new guesses to the list, then the previous guess is given as `guesses[-2]`"
   ]
  },
  {
   "cell_type": "code",
   "execution_count": 20,
   "metadata": {},
   "outputs": [
    {
     "data": {
      "text/plain": [
       "76"
      ]
     },
     "execution_count": 20,
     "metadata": {},
     "output_type": "execute_result"
    }
   ],
   "source": [
    "num=random.randint(1,100)\n",
    "num"
   ]
  },
  {
   "cell_type": "code",
   "execution_count": 21,
   "metadata": {},
   "outputs": [
    {
     "name": "stdout",
     "output_type": "stream",
     "text": [
      "\n",
      "Welcome to the Guessing Game! \n",
      "\n",
      "You have to guess the correct number between 1 to 100.\n",
      "If your guess is within 10 of the number, I will say \"WARM!\"\n",
      "If your guess is further than 10 away from the number, I will say \"COLD!\"\n",
      "If you are closer to the number than the previous guess, I will say \"WARMER!\"\n",
      "If you are farther from the number than the previous guess, I will say \"COLDER!\" \n",
      "\n",
      "I am thinking of a number between 1 and 100, which is my number? -1\n",
      "OUT OF BOUNDS! Try again\n",
      "I am thinking of a number between 1 and 100, which is my number? 101\n",
      "OUT OF BOUNDS! Try again\n",
      "I am thinking of a number between 1 and 100, which is my number? 100\n",
      "COLD!\n",
      "I am thinking of a number between 1 and 100, which is my number? 1\n",
      "COLDER!\n",
      "I am thinking of a number between 1 and 100, which is my number? -1\n",
      "OUT OF BOUNDS! Try again\n",
      "I am thinking of a number between 1 and 100, which is my number? 70\n",
      "WARMER!\n",
      "I am thinking of a number between 1 and 100, which is my number? 69\n",
      "COLDER!\n",
      "I am thinking of a number between 1 and 100, which is my number? 71\n",
      "WARMER!\n",
      "I am thinking of a number between 1 and 100, which is my number? 90\n",
      "COLDER!\n",
      "I am thinking of a number between 1 and 100, which is my number? 80\n",
      "WARMER!\n",
      "I am thinking of a number between 1 and 100, which is my number? 76\n",
      "Congratulations! You guessed the right number in 8 attempts!\n",
      "Would you like to play again? Write \"YES\" or \"NO\" yes\n",
      "\n",
      "Welcome to the Guessing Game! \n",
      "\n",
      "You have to guess the correct number between 1 to 100.\n",
      "If your guess is within 10 of the number, I will say \"WARM!\"\n",
      "If your guess is further than 10 away from the number, I will say \"COLD!\"\n",
      "If you are closer to the number than the previous guess, I will say \"WARMER!\"\n",
      "If you are farther from the number than the previous guess, I will say \"COLDER!\" \n",
      "\n",
      "I am thinking of a number between 1 and 100, which is my number? -6\n",
      "OUT OF BOUNDS! Try again\n",
      "I am thinking of a number between 1 and 100, which is my number? 150\n",
      "OUT OF BOUNDS! Try again\n",
      "I am thinking of a number between 1 and 100, which is my number? 76\n",
      "Congratulations! You guessed the right number in 1 attempts!\n",
      "Would you like to play again? Write \"YES\" or \"NO\" no\n"
     ]
    }
   ],
   "source": [
    "play='yes'\n",
    "\n",
    "while play=='yes':\n",
    "    \n",
    "    #num=random.randint(1,100) \n",
    "    \n",
    "    guesses=[0]\n",
    "    intro()\n",
    "\n",
    "    while True:\n",
    "\n",
    "        guess=int(input('I am thinking of a number between 1 and 100, which is my number? '))\n",
    "\n",
    "        if 1 > guess or guess > 100:\n",
    "            print('OUT OF BOUNDS! Try again')\n",
    "            continue\n",
    "\n",
    "        else:\n",
    "\n",
    "            if guess==num:\n",
    "                print(f'Congratulations! You guessed the right number in {len(guesses)} attempts!')\n",
    "                play = input('Would you like to play again? Write \"YES\" or \"NO\" ')\n",
    "                break\n",
    "                \n",
    "            guesses.append(guess)\n",
    "            \n",
    "            if len(guesses)==2:\n",
    "                \n",
    "                if abs(guess-num) > 10:\n",
    "                    print('COLD!')\n",
    "                else:\n",
    "                    print('WARM!')\n",
    "                continue\n",
    "            \n",
    "            else:\n",
    "                if abs(num-guesses[-2]) <= abs(num-guess):\n",
    "                    print('COLDER!')\n",
    "                else:\n",
    "                    print('WARMER!')\n",
    "                continue      "
   ]
  },
  {
   "cell_type": "markdown",
   "metadata": {},
   "source": [
    "That's it! You've just programmed your first game!\n",
    "\n",
    "In the next section we'll learn how to turn some of these repetitive actions into *functions* that can be called whenever we need them."
   ]
  },
  {
   "cell_type": "markdown",
   "metadata": {},
   "source": [
    "### Good Job!"
   ]
  }
 ],
 "metadata": {
  "kernelspec": {
   "display_name": "Python 3",
   "language": "python",
   "name": "python3"
  },
  "language_info": {
   "codemirror_mode": {
    "name": "ipython",
    "version": 3
   },
   "file_extension": ".py",
   "mimetype": "text/x-python",
   "name": "python",
   "nbconvert_exporter": "python",
   "pygments_lexer": "ipython3",
   "version": "3.7.7"
  }
 },
 "nbformat": 4,
 "nbformat_minor": 2
}
